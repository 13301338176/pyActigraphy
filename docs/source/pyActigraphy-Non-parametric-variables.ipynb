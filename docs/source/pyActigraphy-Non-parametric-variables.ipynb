{
 "cells": [
  {
   "cell_type": "markdown",
   "metadata": {
    "toc": true
   },
   "source": [
    "<h1>Table of Contents<span class=\"tocSkip\"></span></h1>\n",
    "<div class=\"toc\"><ul class=\"toc-item\"><li><span><a href=\"#Interdaily-stability-&amp;-intradaily-variability\" data-toc-modified-id=\"Interdaily-stability-&amp;-intradaily-variability-1\"><span class=\"toc-item-num\">1&nbsp;&nbsp;</span>Interdaily stability &amp; intradaily variability</a></span><ul class=\"toc-item\"><li><span><a href=\"#Changing-the-resampling-frequency\" data-toc-modified-id=\"Changing-the-resampling-frequency-1.1\"><span class=\"toc-item-num\">1.1&nbsp;&nbsp;</span>Changing the resampling frequency</a></span></li><li><span><a href=\"#Changing-the-threshold\" data-toc-modified-id=\"Changing-the-threshold-1.2\"><span class=\"toc-item-num\">1.2&nbsp;&nbsp;</span>Changing the threshold</a></span></li><li><span><a href=\"#Without-binarizing-the-data\" data-toc-modified-id=\"Without-binarizing-the-data-1.3\"><span class=\"toc-item-num\">1.3&nbsp;&nbsp;</span>Without binarizing the data</a></span></li></ul></li><li><span><a href=\"#Relative-amplitude\" data-toc-modified-id=\"Relative-amplitude-2\"><span class=\"toc-item-num\">2&nbsp;&nbsp;</span>Relative amplitude</a></span></li><li><span><a href=\"#Mean-IS-and-IV\" data-toc-modified-id=\"Mean-IS-and-IV-3\"><span class=\"toc-item-num\">3&nbsp;&nbsp;</span>Mean IS and IV</a></span></li><li><span><a href=\"#IS,-IV-and-RA-per-period\" data-toc-modified-id=\"IS,-IV-and-RA-per-period-4\"><span class=\"toc-item-num\">4&nbsp;&nbsp;</span>IS, IV and RA per period</a></span></li></ul></div>"
   ]
  },
  {
   "cell_type": "markdown",
   "metadata": {},
   "source": [
    "# Non-parametric variables with pyActigraphy"
   ]
  },
  {
   "cell_type": "markdown",
   "metadata": {},
   "source": [
    "Non-parametric variables such as:\n",
    "\n",
    "* Interdaily stability (IS)\n",
    "* Intradaily variability (IV)\n",
    "* Relative amplitude (RA)\n",
    "\n",
    "can easily be calculated with the pyActigraphy package."
   ]
  },
  {
   "cell_type": "markdown",
   "metadata": {},
   "source": [
    "First import the pyActigraphy package and read your favorite actigraphy data file:"
   ]
  },
  {
   "cell_type": "code",
   "execution_count": 1,
   "metadata": {
    "ExecuteTime": {
     "end_time": "2019-06-12T14:06:44.421848Z",
     "start_time": "2019-06-12T14:06:42.061860Z"
    }
   },
   "outputs": [],
   "source": [
    "import pyActigraphy"
   ]
  },
  {
   "cell_type": "code",
   "execution_count": 2,
   "metadata": {
    "ExecuteTime": {
     "end_time": "2019-06-12T14:06:44.441250Z",
     "start_time": "2019-06-12T14:06:44.424068Z"
    }
   },
   "outputs": [],
   "source": [
    "# Read test file\n",
    "raw = pyActigraphy.io.read_raw_awd('../../pyActigraphy/tests/data/test_sample.AWD')"
   ]
  },
  {
   "cell_type": "markdown",
   "metadata": {},
   "source": [
    "## Interdaily stability & intradaily variability"
   ]
  },
  {
   "cell_type": "markdown",
   "metadata": {},
   "source": [
    "For both variables, the default parameters are:\n",
    "\n",
    "* resampling frequency = '1H'\n",
    "* binarize data = True\n",
    "* threshold = 4"
   ]
  },
  {
   "cell_type": "code",
   "execution_count": 3,
   "metadata": {
    "ExecuteTime": {
     "end_time": "2019-06-12T14:06:44.475123Z",
     "start_time": "2019-06-12T14:06:44.443533Z"
    }
   },
   "outputs": [
    {
     "data": {
      "text/plain": [
       "0.6863558416293868"
      ]
     },
     "execution_count": 3,
     "metadata": {},
     "output_type": "execute_result"
    }
   ],
   "source": [
    "raw.IS()"
   ]
  },
  {
   "cell_type": "code",
   "execution_count": 4,
   "metadata": {
    "ExecuteTime": {
     "end_time": "2019-06-12T14:06:44.489889Z",
     "start_time": "2019-06-12T14:06:44.477435Z"
    }
   },
   "outputs": [
    {
     "data": {
      "text/plain": [
       "0.4479249905324644"
      ]
     },
     "execution_count": 4,
     "metadata": {},
     "output_type": "execute_result"
    }
   ],
   "source": [
    "raw.IV()"
   ]
  },
  {
   "cell_type": "markdown",
   "metadata": {},
   "source": [
    "However, it is possible to change these parameters."
   ]
  },
  {
   "cell_type": "markdown",
   "metadata": {},
   "source": [
    "### Changing the resampling frequency"
   ]
  },
  {
   "cell_type": "markdown",
   "metadata": {},
   "source": [
    "To calculate the IS&IV with a resampling frequency of 30 minutes, for example:"
   ]
  },
  {
   "cell_type": "code",
   "execution_count": 5,
   "metadata": {
    "ExecuteTime": {
     "end_time": "2019-06-12T14:06:44.504738Z",
     "start_time": "2019-06-12T14:06:44.492206Z"
    }
   },
   "outputs": [
    {
     "data": {
      "text/plain": [
       "0.6444097187215905"
      ]
     },
     "execution_count": 5,
     "metadata": {},
     "output_type": "execute_result"
    }
   ],
   "source": [
    "raw.IS(freq='30min')"
   ]
  },
  {
   "cell_type": "code",
   "execution_count": 6,
   "metadata": {
    "ExecuteTime": {
     "end_time": "2019-06-12T14:06:44.518625Z",
     "start_time": "2019-06-12T14:06:44.507036Z"
    }
   },
   "outputs": [
    {
     "data": {
      "text/plain": [
       "0.3524709429601284"
      ]
     },
     "execution_count": 6,
     "metadata": {},
     "output_type": "execute_result"
    }
   ],
   "source": [
    "raw.IV(freq='30min')"
   ]
  },
  {
   "cell_type": "markdown",
   "metadata": {},
   "source": [
    "### Changing the threshold"
   ]
  },
  {
   "cell_type": "markdown",
   "metadata": {},
   "source": [
    "To calculate IS&IV with a different threshold on the activity count when binarizing the data:"
   ]
  },
  {
   "cell_type": "code",
   "execution_count": 7,
   "metadata": {
    "ExecuteTime": {
     "end_time": "2019-06-12T14:06:44.539686Z",
     "start_time": "2019-06-12T14:06:44.521892Z"
    }
   },
   "outputs": [
    {
     "data": {
      "text/plain": [
       "0.6699168184920068"
      ]
     },
     "execution_count": 7,
     "metadata": {},
     "output_type": "execute_result"
    }
   ],
   "source": [
    "raw.IS(threshold=10)"
   ]
  },
  {
   "cell_type": "code",
   "execution_count": 8,
   "metadata": {
    "ExecuteTime": {
     "end_time": "2019-06-12T14:06:44.556106Z",
     "start_time": "2019-06-12T14:06:44.542564Z"
    }
   },
   "outputs": [
    {
     "data": {
      "text/plain": [
       "0.47423882234616427"
      ]
     },
     "execution_count": 8,
     "metadata": {},
     "output_type": "execute_result"
    }
   ],
   "source": [
    "raw.IV(threshold=10)"
   ]
  },
  {
   "cell_type": "markdown",
   "metadata": {},
   "source": [
    "### Without binarizing the data"
   ]
  },
  {
   "cell_type": "markdown",
   "metadata": {},
   "source": [
    "It is also possible to calculate these variables without binarizing the data:"
   ]
  },
  {
   "cell_type": "code",
   "execution_count": 9,
   "metadata": {
    "ExecuteTime": {
     "end_time": "2019-06-12T14:06:44.581486Z",
     "start_time": "2019-06-12T14:06:44.560229Z"
    }
   },
   "outputs": [
    {
     "data": {
      "text/plain": [
       "0.4815388342166626"
      ]
     },
     "execution_count": 9,
     "metadata": {},
     "output_type": "execute_result"
    }
   ],
   "source": [
    "raw.IS(binarize=False)"
   ]
  },
  {
   "cell_type": "code",
   "execution_count": 10,
   "metadata": {
    "ExecuteTime": {
     "end_time": "2019-06-12T14:06:44.596972Z",
     "start_time": "2019-06-12T14:06:44.585740Z"
    }
   },
   "outputs": [
    {
     "data": {
      "text/plain": [
       "0.719559543155139"
      ]
     },
     "execution_count": 10,
     "metadata": {},
     "output_type": "execute_result"
    }
   ],
   "source": [
    "raw.IV(binarize=False)"
   ]
  },
  {
   "cell_type": "markdown",
   "metadata": {},
   "source": [
    "## Relative amplitude"
   ]
  },
  {
   "cell_type": "markdown",
   "metadata": {},
   "source": [
    "Similarly, the default parameters for the relative amplitude (RA) are:\n",
    "\n",
    "* binarize data = True\n",
    "* threshold = 4\n",
    "\n",
    "It is not possible to specify a resampling frequency as the RA is independant of this parameter."
   ]
  },
  {
   "cell_type": "code",
   "execution_count": 11,
   "metadata": {
    "ExecuteTime": {
     "end_time": "2019-06-12T14:06:44.643553Z",
     "start_time": "2019-06-12T14:06:44.600106Z"
    }
   },
   "outputs": [
    {
     "data": {
      "text/plain": [
       "0.7219666970017463"
      ]
     },
     "execution_count": 11,
     "metadata": {},
     "output_type": "execute_result"
    }
   ],
   "source": [
    "raw.RA()"
   ]
  },
  {
   "cell_type": "code",
   "execution_count": 12,
   "metadata": {
    "ExecuteTime": {
     "end_time": "2019-06-12T14:06:44.684482Z",
     "start_time": "2019-06-12T14:06:44.646185Z"
    },
    "scrolled": true
   },
   "outputs": [
    {
     "data": {
      "text/plain": [
       "0.9024231377348686"
      ]
     },
     "execution_count": 12,
     "metadata": {},
     "output_type": "execute_result"
    }
   ],
   "source": [
    "raw.RA(binarize=False)"
   ]
  },
  {
   "cell_type": "markdown",
   "metadata": {},
   "source": [
    "## Mean IS and IV"
   ]
  },
  {
   "cell_type": "markdown",
   "metadata": {},
   "source": [
    "In `Nonparametric methods in actigraphy: An update`, Gonçalves et al. introduced two new variables, ISm and IVm, as the mean of the IS and IV (respectively) values calculated as different resampling frequencies."
   ]
  },
  {
   "cell_type": "markdown",
   "metadata": {},
   "source": [
    "These two additional variables are also available in the pyActigraphy package.\n",
    "For both variables, the default parameters are:\n",
    "\n",
    "* resampling frequencies = [1,2,3,4,5,6,8,9,10,12,15,16,18,20,24,30,32,36,40,45,48,60] (min)\n",
    "* binarize data = True\n",
    "* threshold = 4"
   ]
  },
  {
   "cell_type": "code",
   "execution_count": 13,
   "metadata": {
    "ExecuteTime": {
     "end_time": "2019-06-12T14:06:44.887391Z",
     "start_time": "2019-06-12T14:06:44.687345Z"
    }
   },
   "outputs": [
    {
     "data": {
      "text/plain": [
       "0.5906849087111824"
      ]
     },
     "execution_count": 13,
     "metadata": {},
     "output_type": "execute_result"
    }
   ],
   "source": [
    "raw.ISm()"
   ]
  },
  {
   "cell_type": "code",
   "execution_count": 14,
   "metadata": {
    "ExecuteTime": {
     "end_time": "2019-06-12T14:06:44.982946Z",
     "start_time": "2019-06-12T14:06:44.889489Z"
    }
   },
   "outputs": [
    {
     "data": {
      "text/plain": [
       "0.3658423669948913"
      ]
     },
     "execution_count": 14,
     "metadata": {},
     "output_type": "execute_result"
    }
   ],
   "source": [
    "raw.IVm()"
   ]
  },
  {
   "cell_type": "markdown",
   "metadata": {},
   "source": [
    "To change the resampling frequencies:"
   ]
  },
  {
   "cell_type": "code",
   "execution_count": 15,
   "metadata": {
    "ExecuteTime": {
     "end_time": "2019-06-12T14:06:44.988375Z",
     "start_time": "2019-06-12T14:06:44.985375Z"
    }
   },
   "outputs": [],
   "source": [
    "new_resampling_frequencies = ['5min','30min','1H']"
   ]
  },
  {
   "cell_type": "code",
   "execution_count": 16,
   "metadata": {
    "ExecuteTime": {
     "end_time": "2019-06-12T14:06:45.021245Z",
     "start_time": "2019-06-12T14:06:44.990503Z"
    }
   },
   "outputs": [
    {
     "data": {
      "text/plain": [
       "0.6231808262585031"
      ]
     },
     "execution_count": 16,
     "metadata": {},
     "output_type": "execute_result"
    }
   ],
   "source": [
    "raw.ISm(freqs=new_resampling_frequencies)"
   ]
  },
  {
   "cell_type": "markdown",
   "metadata": {},
   "source": [
    "## IS, IV and RA per period"
   ]
  },
  {
   "cell_type": "markdown",
   "metadata": {},
   "source": [
    "pyActigraphy introduces a new concept concerning the calculation of the non-parametric variables: it is now possible to calculate them per period."
   ]
  },
  {
   "cell_type": "markdown",
   "metadata": {},
   "source": [
    "The acquisition period is split in consecutive periods with the required length (if possible) and the non-parametric variable is then calculated for each period:"
   ]
  },
  {
   "cell_type": "code",
   "execution_count": 17,
   "metadata": {
    "ExecuteTime": {
     "end_time": "2019-06-12T14:06:45.043357Z",
     "start_time": "2019-06-12T14:06:45.024251Z"
    }
   },
   "outputs": [
    {
     "data": {
      "text/plain": [
       "[0.8192642661619101]"
      ]
     },
     "execution_count": 17,
     "metadata": {},
     "output_type": "execute_result"
    }
   ],
   "source": [
    "raw.ISp()"
   ]
  },
  {
   "cell_type": "markdown",
   "metadata": {},
   "source": [
    "By default, the period length is 7 days. But this parameter can easily be changed:"
   ]
  },
  {
   "cell_type": "code",
   "execution_count": 18,
   "metadata": {
    "ExecuteTime": {
     "end_time": "2019-06-12T14:06:45.073949Z",
     "start_time": "2019-06-12T14:06:45.046327Z"
    }
   },
   "outputs": [
    {
     "data": {
      "text/plain": [
       "[0.8254509380330284, 0.7057092290806617]"
      ]
     },
     "execution_count": 18,
     "metadata": {},
     "output_type": "execute_result"
    }
   ],
   "source": [
    "# Period of 4 days for example\n",
    "raw.ISp(period='4D')"
   ]
  },
  {
   "cell_type": "markdown",
   "metadata": {},
   "source": [
    "In order to find out how many periods were found in the actigraphy record:"
   ]
  },
  {
   "cell_type": "code",
   "execution_count": 19,
   "metadata": {
    "ExecuteTime": {
     "end_time": "2019-06-12T14:06:45.107748Z",
     "start_time": "2019-06-12T14:06:45.077100Z"
    }
   },
   "outputs": [
    {
     "name": "stdout",
     "output_type": "stream",
     "text": [
      "Number of periods: 2\n",
      " Time unaccounted for: 0 days, 3h, 0m, 0s\n"
     ]
    },
    {
     "data": {
      "text/plain": [
       "[0.8254509380330284, 0.7057092290806617]"
      ]
     },
     "execution_count": 19,
     "metadata": {},
     "output_type": "execute_result"
    }
   ],
   "source": [
    "raw.ISp(period='4D', verbose=True)"
   ]
  },
  {
   "cell_type": "markdown",
   "metadata": {},
   "source": [
    "Et voilà!"
   ]
  }
 ],
 "metadata": {
  "kernelspec": {
   "display_name": "Python3 (pyActi)",
   "language": "python",
   "name": "pyactigraphy_py3"
  },
  "language_info": {
   "codemirror_mode": {
    "name": "ipython",
    "version": 3
   },
   "file_extension": ".py",
   "mimetype": "text/x-python",
   "name": "python",
   "nbconvert_exporter": "python",
   "pygments_lexer": "ipython3",
   "version": "3.7.0"
  },
  "toc": {
   "base_numbering": 1,
   "nav_menu": {},
   "number_sections": true,
   "sideBar": true,
   "skip_h1_title": true,
   "title_cell": "Table of Contents",
   "title_sidebar": "Contents",
   "toc_cell": true,
   "toc_position": {},
   "toc_section_display": true,
   "toc_window_display": false
  }
 },
 "nbformat": 4,
 "nbformat_minor": 2
}
