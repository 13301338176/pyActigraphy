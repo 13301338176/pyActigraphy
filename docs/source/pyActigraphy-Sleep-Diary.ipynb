{
 "cells": [
  {
   "cell_type": "markdown",
   "metadata": {},
   "source": [
    "# Utilisation of sleep diary with pyActigraphy"
   ]
  },
  {
   "cell_type": "markdown",
   "metadata": {},
   "source": [
    "Sleep diary is usually given with an actimeter allowing participants to report their subjective evaluation of sleep episodes. Sleep diary is the easiest tool and the less invasive to get information about sleep episodes from participants. It allows comparison between data recorded by an actigraph and the real-life. \n",
    "\n",
    "In medical fields, sleep diary is commonly recommended in order to help doctors in the diagnosis and treatment of sleep-wake cycle disorders. "
   ]
  },
  {
   "cell_type": "code",
   "execution_count": null,
   "metadata": {},
   "outputs": [],
   "source": [
    "import pyActigraphy\n",
    "import os\n",
    "import numpy as np"
   ]
  },
  {
   "cell_type": "code",
   "execution_count": null,
   "metadata": {},
   "outputs": [],
   "source": [
    "from plotly.graph_objs import Figure, Layout, Scatter\n",
    "from plotly.offline import init_notebook_mode, iplot\n",
    "init_notebook_mode(connected=True)"
   ]
  },
  {
   "cell_type": "code",
   "execution_count": null,
   "metadata": {},
   "outputs": [],
   "source": [
    "# Retrieve path to example files\n",
    "fpath = os.path.join(os.path.dirname(pyActigraphy.__file__),'tests/data/')"
   ]
  },
  {
   "cell_type": "code",
   "execution_count": null,
   "metadata": {},
   "outputs": [],
   "source": [
    "# Read test file\n",
    "raw = pyActigraphy.io.read_raw_awd(fpath+'example_01.AWD')"
   ]
  },
  {
   "cell_type": "code",
   "execution_count": null,
   "metadata": {},
   "outputs": [],
   "source": [
    "# Check the start time of the actigraphy recording\n",
    "raw.start_time"
   ]
  },
  {
   "cell_type": "code",
   "execution_count": null,
   "metadata": {},
   "outputs": [],
   "source": [
    "# Check the duration of the recording\n",
    "raw.duration()"
   ]
  },
  {
   "cell_type": "markdown",
   "metadata": {},
   "source": [
    "## Read a sleep diary"
   ]
  },
  {
   "cell_type": "markdown",
   "metadata": {},
   "source": [
    "Sleep diary class has been created to read a sleep diary file. Sleep diary file *must* be formatted as the following:"
   ]
  },
  {
   "cell_type": "markdown",
   "metadata": {},
   "source": [
    "|SubjectID |subject_id|\n",
    "\n",
    "|Type|Start|End||\n",
    "\n",
    "|:----------|----------|---------|-------|\n",
    "\n",
    "|Night/Nap/NoWear | YYYY-MM-DD HH:MM| YYYY-MM-DD HH:MM| |"
   ]
  },
  {
   "cell_type": "markdown",
   "metadata": {},
   "source": [
    "\\begin{array}{|c|c|}\n",
    "\\hline X & P(X = i) \\T \\\\\\hline\n",
    "  1 \\T & 1/6 \\\\\\hline\n",
    "  2 \\T & 1/6 \\\\\\hline\n",
    "  3 \\T & 1/6 \\\\\\hline\n",
    "  4 \\T & 1/6 \\\\\\hline\n",
    "  5 \\T & 1/6 \\\\\\hline\n",
    "  6 \\T & 1/6 \\\\\\hline\n",
    "\\end{array}"
   ]
  },
  {
   "cell_type": "markdown",
   "metadata": {},
   "source": [
    "As an illustration, let us first read the sleep diary of example 01:"
   ]
  },
  {
   "cell_type": "code",
   "execution_count": null,
   "metadata": {},
   "outputs": [],
   "source": [
    "sleep_diary = raw.read_sleep_diary(fpath + 'example_01_sleepdiary.ods')"
   ]
  },
  {
   "cell_type": "markdown",
   "metadata": {},
   "source": [
    "Subject's name in the sleep diary is easily verified:"
   ]
  },
  {
   "cell_type": "code",
   "execution_count": null,
   "metadata": {},
   "outputs": [],
   "source": [
    "raw.sleep_diary.name"
   ]
  },
  {
   "cell_type": "markdown",
   "metadata": {},
   "source": [
    "To access to the data contained in the sleep diary:"
   ]
  },
  {
   "cell_type": "code",
   "execution_count": null,
   "metadata": {
    "scrolled": true
   },
   "outputs": [],
   "source": [
    "raw.sleep_diary.diary"
   ]
  },
  {
   "cell_type": "markdown",
   "metadata": {},
   "source": [
    "A `summary` function is available. It returns the count/mean/std/min/25%/50%/75%/max of the durations found for each state in the sleep diary:"
   ]
  },
  {
   "cell_type": "code",
   "execution_count": null,
   "metadata": {
    "scrolled": true
   },
   "outputs": [],
   "source": [
    "raw.sleep_diary.summary()"
   ]
  },
  {
   "cell_type": "markdown",
   "metadata": {},
   "source": [
    "The mean and standard deviation for one state is accessible by `state_infos` function:"
   ]
  },
  {
   "cell_type": "code",
   "execution_count": null,
   "metadata": {},
   "outputs": [],
   "source": [
    "raw.sleep_diary.state_infos('NIGHT')"
   ]
  },
  {
   "cell_type": "markdown",
   "metadata": {},
   "source": [
    "Specific functions are implemented to directly estimate the mean and standard deviation for theses states:\n",
    "* bed time\n",
    "* nap time\n",
    "* no wear"
   ]
  },
  {
   "cell_type": "code",
   "execution_count": null,
   "metadata": {},
   "outputs": [],
   "source": [
    "raw.sleep_diary.total_bed_time()"
   ]
  },
  {
   "cell_type": "code",
   "execution_count": null,
   "metadata": {},
   "outputs": [],
   "source": [
    "raw.sleep_diary.total_nap_time()"
   ]
  },
  {
   "cell_type": "code",
   "execution_count": null,
   "metadata": {},
   "outputs": [],
   "source": [
    "raw.sleep_diary.TOffT()"
   ]
  },
  {
   "cell_type": "markdown",
   "metadata": {},
   "source": [
    "## Plot the data with sleep diary"
   ]
  },
  {
   "cell_type": "markdown",
   "metadata": {},
   "source": [
    "First, create a layout for the plot and then plot data. \n",
    "Shapes are created for each sleep episodes to put them on the top of actimetry data. Different parameters (e.g. colours) enable to distinguish sleep during night-time and nap episode. \n",
    "\n",
    "First let us inspect shapes:"
   ]
  },
  {
   "cell_type": "code",
   "execution_count": null,
   "metadata": {},
   "outputs": [],
   "source": [
    "raw.sleep_diary.shapes()"
   ]
  },
  {
   "cell_type": "markdown",
   "metadata": {},
   "source": [
    "Then plot actimetry data with the corresponding sleep diary:"
   ]
  },
  {
   "cell_type": "code",
   "execution_count": null,
   "metadata": {},
   "outputs": [],
   "source": [
    "layout = Layout(\n",
    "    title=\"Actigraphy data\",\n",
    "    xaxis=dict(title=\"Date time\"),\n",
    "    yaxis=dict(title=\"Counts/period\"),\n",
    "    shapes=raw.sleep_diary.shapes(),\n",
    "    showlegend=False\n",
    ")"
   ]
  },
  {
   "cell_type": "code",
   "execution_count": null,
   "metadata": {},
   "outputs": [],
   "source": [
    "iplot(Figure(data=[Scatter(x=raw.data.index, y=raw.data)], layout=layout))"
   ]
  },
  {
   "cell_type": "markdown",
   "metadata": {},
   "source": [
    "Features of shaded areas are easily accessible to modify them. Three types of modifications are feasible:\n",
    "* Global modifications : change parameters for all shaded areas\n",
    "* One state modifications : change parameters specific for one state\n",
    "* Local modifications : change parameters for the selected shaded area"
   ]
  },
  {
   "cell_type": "code",
   "execution_count": null,
   "metadata": {},
   "outputs": [],
   "source": [
    "# Global modifications\n",
    "raw.sleep_diary.shaded_area['opacity'] = 1"
   ]
  },
  {
   "cell_type": "code",
   "execution_count": null,
   "metadata": {},
   "outputs": [],
   "source": [
    "layout = Layout(\n",
    "    title=\"Actigraphy data\",\n",
    "    xaxis=dict(title=\"Date time\"),\n",
    "    yaxis=dict(title=\"Counts/period\"),\n",
    "    shapes=raw.sleep_diary.shapes(),\n",
    "    showlegend=False\n",
    ")"
   ]
  },
  {
   "cell_type": "code",
   "execution_count": null,
   "metadata": {},
   "outputs": [],
   "source": [
    "iplot(Figure(data=[Scatter(x=raw.data.index, y=raw.data)], layout=layout))"
   ]
  },
  {
   "cell_type": "code",
   "execution_count": null,
   "metadata": {},
   "outputs": [],
   "source": [
    "# Access to colours for each state\n",
    "raw.sleep_diary.state_colour"
   ]
  },
  {
   "cell_type": "code",
   "execution_count": null,
   "metadata": {},
   "outputs": [],
   "source": [
    "# One state modifications\n",
    "raw.sleep_diary.state_colour['NIGHT'] = 'rgb(140,95,148)'"
   ]
  },
  {
   "cell_type": "code",
   "execution_count": null,
   "metadata": {},
   "outputs": [],
   "source": [
    "# Check colour modification\n",
    "raw.sleep_diary.state_colour"
   ]
  },
  {
   "cell_type": "code",
   "execution_count": null,
   "metadata": {},
   "outputs": [],
   "source": [
    "layout = Layout(\n",
    "    title=\"Actigraphy data\",\n",
    "    xaxis=dict(title=\"Date time\"),\n",
    "    yaxis=dict(title=\"Counts/period\"),\n",
    "    shapes=raw.sleep_diary.shapes(),\n",
    "    showlegend=False\n",
    ")"
   ]
  },
  {
   "cell_type": "code",
   "execution_count": null,
   "metadata": {},
   "outputs": [],
   "source": [
    "iplot(Figure(data=[Scatter(x=raw.data.index, y=raw.data)], layout=layout))"
   ]
  },
  {
   "cell_type": "code",
   "execution_count": null,
   "metadata": {},
   "outputs": [],
   "source": [
    "# Local modifications of the first shape\n",
    "shapes = raw.sleep_diary.shapes()\n",
    "shapes[0]['fillcolor'] = 'rgb(0,255,200)'"
   ]
  },
  {
   "cell_type": "code",
   "execution_count": null,
   "metadata": {},
   "outputs": [],
   "source": [
    "layout = Layout(\n",
    "    title=\"Actigraphy data\",\n",
    "    xaxis=dict(title=\"Date time\"), \n",
    "    yaxis=dict(title=\"Counts/period\"),\n",
    "    shapes=shapes,\n",
    "    showlegend=False)"
   ]
  },
  {
   "cell_type": "code",
   "execution_count": null,
   "metadata": {},
   "outputs": [],
   "source": [
    "iplot(Figure(data=[Scatter(x=raw.data.index, y=raw.data)], layout=layout))"
   ]
  },
  {
   "cell_type": "markdown",
   "metadata": {},
   "source": [
    "## Add custom states"
   ]
  },
  {
   "cell_type": "markdown",
   "metadata": {},
   "source": [
    "Four states (active, nap, night, nowear) are automatically implemented when a sleep diary is readen. Parameters are define by default. The *pyActigraphy* package allow us to customise colours and to add states."
   ]
  },
  {
   "cell_type": "code",
   "execution_count": null,
   "metadata": {},
   "outputs": [],
   "source": [
    "# Default implemented states \n",
    "raw.sleep_diary.state_index"
   ]
  },
  {
   "cell_type": "markdown",
   "metadata": {},
   "source": [
    "To add a custom state, all indices and their colours have to be specified during the reading of the sleep diary:"
   ]
  },
  {
   "cell_type": "code",
   "execution_count": null,
   "metadata": {},
   "outputs": [],
   "source": [
    "raw.read_sleep_diary(\n",
    "    fpath + 'example_01_sleepdiary_extra_states.ods',\n",
    "    state_index=dict(ACTIVE=2, NAP=1, NIGHT=0, NOWEAR=-1, AWAKE_IN_BED=3),\n",
    "    state_colour=dict(\n",
    "        NAP='#7bc043',\n",
    "        NIGHT='#d3d3d3',\n",
    "        NOWEAR='#ee4035',\n",
    "        AWAKE_IN_BED='rgb(143, 19, 131)'\n",
    "    )\n",
    ")"
   ]
  },
  {
   "cell_type": "code",
   "execution_count": null,
   "metadata": {},
   "outputs": [],
   "source": [
    "layout = Layout(\n",
    "    title=\"Actigraphy data\",\n",
    "    xaxis=dict(title=\"Date time\"), \n",
    "    yaxis=dict(title=\"Counts/period\"),\n",
    "    shapes=raw.sleep_diary.shapes(),\n",
    "    showlegend=False)"
   ]
  },
  {
   "cell_type": "code",
   "execution_count": null,
   "metadata": {},
   "outputs": [],
   "source": [
    "iplot(Figure(data=[Scatter(x=raw.data.index, y=raw.data)], layout=layout))"
   ]
  },
  {
   "cell_type": "markdown",
   "metadata": {},
   "source": [
    "Mean and stantard deviation for an added state are also accessible:"
   ]
  },
  {
   "cell_type": "code",
   "execution_count": null,
   "metadata": {},
   "outputs": [],
   "source": [
    "raw.sleep_diary.state_infos('AWAKE_IN_BED')"
   ]
  },
  {
   "cell_type": "code",
   "execution_count": null,
   "metadata": {},
   "outputs": [],
   "source": []
  }
 ],
 "metadata": {
  "celltoolbar": "Aucun(e)",
  "kernelspec": {
   "display_name": "Python 3 (pyActi)\n",
   "language": "python",
   "name": "pyactigraphy"
  },
  "language_info": {
   "codemirror_mode": {
    "name": "ipython",
    "version": 3
   },
   "file_extension": ".py",
   "mimetype": "text/x-python",
   "name": "python",
   "nbconvert_exporter": "python",
   "pygments_lexer": "ipython3",
   "version": "3.5.2"
  }
 },
 "nbformat": 4,
 "nbformat_minor": 2
}
