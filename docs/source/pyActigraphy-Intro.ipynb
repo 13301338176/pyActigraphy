{
 "cells": [
  {
   "cell_type": "markdown",
   "metadata": {},
   "source": [
    "# Notebook to analyze actigraphy data"
   ]
  },
  {
   "cell_type": "code",
   "execution_count": 1,
   "metadata": {
    "ExecuteTime": {
     "end_time": "2018-12-06T15:10:18.824649Z",
     "start_time": "2018-12-06T15:10:16.356450Z"
    },
    "scrolled": true
   },
   "outputs": [],
   "source": [
    "import pyActigraphy as actimetry"
   ]
  },
  {
   "cell_type": "code",
   "execution_count": 2,
   "metadata": {
    "ExecuteTime": {
     "end_time": "2018-12-06T15:10:18.830694Z",
     "start_time": "2018-12-06T15:10:18.827375Z"
    }
   },
   "outputs": [],
   "source": [
    "import pandas as pd\n",
    "import numpy as np"
   ]
  },
  {
   "cell_type": "code",
   "execution_count": 3,
   "metadata": {
    "ExecuteTime": {
     "end_time": "2018-12-06T15:10:19.868160Z",
     "start_time": "2018-12-06T15:10:18.833780Z"
    }
   },
   "outputs": [
    {
     "name": "stdout",
     "output_type": "stream",
     "text": [
      "3.4.1\n"
     ]
    }
   ],
   "source": [
    "import plotly.plotly as py\n",
    "from plotly import tools\n",
    "from plotly import __version__\n",
    "\n",
    "print(__version__) # requires version >= 1.9.0\n",
    "\n",
    "from plotly.graph_objs import FigureWidget, Layout, Scatter\n",
    "#from plotly.offline import init_notebook_mode\n",
    "\n",
    "#init_notebook_mode(connected=False)"
   ]
  },
  {
   "cell_type": "code",
   "execution_count": 4,
   "metadata": {
    "ExecuteTime": {
     "end_time": "2018-12-06T15:10:20.808237Z",
     "start_time": "2018-12-06T15:10:19.872088Z"
    }
   },
   "outputs": [],
   "source": [
    "# create objects for layout and traces\n",
    "layout = Layout()#autosize=False, width=1000, height=800, title=\"\",xaxis=dict(title=\"\"), showlegend=True)"
   ]
  },
  {
   "cell_type": "markdown",
   "metadata": {},
   "source": [
    "## Read an individual actigraphy file"
   ]
  },
  {
   "cell_type": "code",
   "execution_count": 5,
   "metadata": {
    "ExecuteTime": {
     "end_time": "2018-12-06T15:10:20.839910Z",
     "start_time": "2018-12-06T15:10:20.810667Z"
    }
   },
   "outputs": [],
   "source": [
    "raw = actimetry.io.read_raw_awd('../../pyActigraphy/tests/data/test_sample.AWD')"
   ]
  },
  {
   "cell_type": "markdown",
   "metadata": {},
   "source": [
    "### ... and retrieve header info"
   ]
  },
  {
   "cell_type": "code",
   "execution_count": 6,
   "metadata": {
    "ExecuteTime": {
     "end_time": "2018-12-06T15:10:20.856018Z",
     "start_time": "2018-12-06T15:10:20.845875Z"
    }
   },
   "outputs": [
    {
     "data": {
      "text/plain": [
       "'TEST_SAMPLE'"
      ]
     },
     "execution_count": 6,
     "metadata": {},
     "output_type": "execute_result"
    }
   ],
   "source": [
    "raw.name"
   ]
  },
  {
   "cell_type": "code",
   "execution_count": 7,
   "metadata": {
    "ExecuteTime": {
     "end_time": "2018-12-06T15:10:20.868722Z",
     "start_time": "2018-12-06T15:10:20.862496Z"
    }
   },
   "outputs": [
    {
     "data": {
      "text/plain": [
       "Timestamp('2018-01-01 08:30:00')"
      ]
     },
     "execution_count": 7,
     "metadata": {},
     "output_type": "execute_result"
    }
   ],
   "source": [
    "raw.start_time"
   ]
  },
  {
   "cell_type": "code",
   "execution_count": 8,
   "metadata": {
    "ExecuteTime": {
     "end_time": "2018-12-06T15:10:20.880443Z",
     "start_time": "2018-12-06T15:10:20.872015Z"
    }
   },
   "outputs": [
    {
     "data": {
      "text/plain": [
       "Timedelta('8 days 03:18:00')"
      ]
     },
     "execution_count": 8,
     "metadata": {},
     "output_type": "execute_result"
    }
   ],
   "source": [
    "raw.duration()"
   ]
  },
  {
   "cell_type": "code",
   "execution_count": 9,
   "metadata": {
    "ExecuteTime": {
     "end_time": "2018-12-06T15:10:20.895208Z",
     "start_time": "2018-12-06T15:10:20.884945Z"
    }
   },
   "outputs": [
    {
     "data": {
      "text/plain": [
       "'myUUID'"
      ]
     },
     "execution_count": 9,
     "metadata": {},
     "output_type": "execute_result"
    }
   ],
   "source": [
    "raw.uuid"
   ]
  },
  {
   "cell_type": "code",
   "execution_count": 10,
   "metadata": {
    "ExecuteTime": {
     "end_time": "2018-12-06T15:10:20.903892Z",
     "start_time": "2018-12-06T15:10:20.898747Z"
    }
   },
   "outputs": [
    {
     "data": {
      "text/plain": [
       "Timedelta('0 days 00:01:00')"
      ]
     },
     "execution_count": 10,
     "metadata": {},
     "output_type": "execute_result"
    }
   ],
   "source": [
    "raw.frequency"
   ]
  },
  {
   "cell_type": "markdown",
   "metadata": {},
   "source": [
    "### Plot the data"
   ]
  },
  {
   "cell_type": "code",
   "execution_count": 11,
   "metadata": {
    "ExecuteTime": {
     "end_time": "2018-12-06T15:10:20.911595Z",
     "start_time": "2018-12-06T15:10:20.907572Z"
    },
    "scrolled": false
   },
   "outputs": [],
   "source": [
    "layout.update(title=\"Actigraphy data\",xaxis=dict(title=\"Date time\"), showlegend=False)"
   ]
  },
  {
   "cell_type": "code",
   "execution_count": 12,
   "metadata": {
    "ExecuteTime": {
     "end_time": "2018-12-06T15:10:21.836868Z",
     "start_time": "2018-12-06T15:10:20.915432Z"
    },
    "scrolled": false
   },
   "outputs": [
    {
     "data": {
      "application/vnd.jupyter.widget-view+json": {
       "model_id": "c6757d151ade404ba416d2c5c1bce369",
       "version_major": 2,
       "version_minor": 0
      },
      "text/plain": [
       "FigureWidget({\n",
       "    'data': [{'type': 'scatter',\n",
       "              'uid': '27f85b85-61e9-493d-9a60-4302d202cbb8',\n",
       " …"
      ]
     },
     "metadata": {},
     "output_type": "display_data"
    }
   ],
   "source": [
    "FigureWidget(data=[Scatter(x=raw.data.index, y=raw.data)], layout=layout)"
   ]
  },
  {
   "cell_type": "markdown",
   "metadata": {},
   "source": [
    "## Binary data"
   ]
  },
  {
   "cell_type": "code",
   "execution_count": 13,
   "metadata": {
    "ExecuteTime": {
     "end_time": "2018-12-06T15:10:21.846035Z",
     "start_time": "2018-12-06T15:10:21.840434Z"
    }
   },
   "outputs": [],
   "source": [
    "binary = raw.binarized_data(threshold=4)"
   ]
  },
  {
   "cell_type": "code",
   "execution_count": 14,
   "metadata": {
    "ExecuteTime": {
     "end_time": "2018-12-06T15:10:22.471669Z",
     "start_time": "2018-12-06T15:10:21.849082Z"
    }
   },
   "outputs": [
    {
     "data": {
      "application/vnd.jupyter.widget-view+json": {
       "model_id": "7ab10ba1ecae43f5890b45f1e0c3fd06",
       "version_major": 2,
       "version_minor": 0
      },
      "text/plain": [
       "FigureWidget({\n",
       "    'data': [{'type': 'scatter',\n",
       "              'uid': 'c25a5043-47b7-4192-93e2-ff1798b30014',\n",
       " …"
      ]
     },
     "metadata": {},
     "output_type": "display_data"
    }
   ],
   "source": [
    "FigureWidget(data=[Scatter(x=binary.index, y=binary)], layout=layout)"
   ]
  },
  {
   "cell_type": "markdown",
   "metadata": {},
   "source": [
    "### Create mask for periods of inactivity"
   ]
  },
  {
   "cell_type": "code",
   "execution_count": 15,
   "metadata": {
    "ExecuteTime": {
     "end_time": "2018-12-06T15:10:22.477850Z",
     "start_time": "2018-12-06T15:10:22.474581Z"
    }
   },
   "outputs": [],
   "source": [
    "inactivity_length = 240 # times the acquisition frequency"
   ]
  },
  {
   "cell_type": "code",
   "execution_count": 16,
   "metadata": {
    "ExecuteTime": {
     "end_time": "2018-12-06T15:10:22.485714Z",
     "start_time": "2018-12-06T15:10:22.480780Z"
    }
   },
   "outputs": [],
   "source": [
    "raw.create_inactivity_mask(inactivity_length)"
   ]
  },
  {
   "cell_type": "code",
   "execution_count": 17,
   "metadata": {
    "ExecuteTime": {
     "end_time": "2018-12-06T15:10:23.073002Z",
     "start_time": "2018-12-06T15:10:22.488534Z"
    }
   },
   "outputs": [
    {
     "data": {
      "application/vnd.jupyter.widget-view+json": {
       "model_id": "ca11004df9504611835d5abdac5cf6c3",
       "version_major": 2,
       "version_minor": 0
      },
      "text/plain": [
       "FigureWidget({\n",
       "    'data': [{'type': 'scatter',\n",
       "              'uid': 'ad063e92-6117-4931-b347-c3d94161a3a5',\n",
       " …"
      ]
     },
     "metadata": {},
     "output_type": "display_data"
    }
   ],
   "source": [
    "layout.update(title=\"Inactivity mask\",xaxis=dict(title=\"Date time\"), showlegend=False)\n",
    "FigureWidget(data=[Scatter(x=raw.mask.index, y=raw.mask)], layout=layout)"
   ]
  },
  {
   "cell_type": "code",
   "execution_count": 18,
   "metadata": {
    "ExecuteTime": {
     "end_time": "2018-12-06T15:10:23.079354Z",
     "start_time": "2018-12-06T15:10:23.075524Z"
    }
   },
   "outputs": [],
   "source": [
    "#enable masking\n",
    "raw.mask_inactivity = True"
   ]
  },
  {
   "cell_type": "markdown",
   "metadata": {},
   "source": [
    "## Hourly average activity"
   ]
  },
  {
   "cell_type": "code",
   "execution_count": 19,
   "metadata": {
    "ExecuteTime": {
     "end_time": "2018-12-06T15:10:23.085405Z",
     "start_time": "2018-12-06T15:10:23.082370Z"
    }
   },
   "outputs": [],
   "source": [
    "resampling_freq = '15min'"
   ]
  },
  {
   "cell_type": "code",
   "execution_count": 20,
   "metadata": {
    "ExecuteTime": {
     "end_time": "2018-12-06T15:10:23.122620Z",
     "start_time": "2018-12-06T15:10:23.087929Z"
    }
   },
   "outputs": [],
   "source": [
    "average_daily_activity = raw.average_daily_activity(freq=resampling_freq, binarize=False)"
   ]
  },
  {
   "cell_type": "code",
   "execution_count": 21,
   "metadata": {
    "ExecuteTime": {
     "end_time": "2018-12-06T15:10:23.127927Z",
     "start_time": "2018-12-06T15:10:23.124964Z"
    }
   },
   "outputs": [],
   "source": [
    "layout.update(title=\"Average hourly activity\",xaxis=dict(title=\"Date time\"), showlegend=False)"
   ]
  },
  {
   "cell_type": "code",
   "execution_count": 59,
   "metadata": {
    "ExecuteTime": {
     "end_time": "2018-12-06T16:24:10.608417Z",
     "start_time": "2018-12-06T16:24:10.591030Z"
    }
   },
   "outputs": [
    {
     "ename": "AttributeError",
     "evalue": "'TimedeltaIndex' object has no attribute 'value'",
     "output_type": "error",
     "traceback": [
      "\u001b[0;31m---------------------------------------------------------------------------\u001b[0m",
      "\u001b[0;31mAttributeError\u001b[0m                            Traceback (most recent call last)",
      "\u001b[0;32m<ipython-input-59-8b805a6d0f76>\u001b[0m in \u001b[0;36m<module>\u001b[0;34m()\u001b[0m\n\u001b[1;32m      1\u001b[0m FigureWidget(data=[\n\u001b[0;32m----> 2\u001b[0;31m     \u001b[0mScatter\u001b[0m\u001b[0;34m(\u001b[0m\u001b[0mx\u001b[0m\u001b[0;34m=\u001b[0m\u001b[0maverage_daily_activity\u001b[0m\u001b[0;34m.\u001b[0m\u001b[0mindex\u001b[0m\u001b[0;34m.\u001b[0m\u001b[0mvalue\u001b[0m\u001b[0;34m,\u001b[0m \u001b[0my\u001b[0m\u001b[0;34m=\u001b[0m\u001b[0maverage_daily_activity\u001b[0m\u001b[0;34m)\u001b[0m\u001b[0;34m\u001b[0m\u001b[0m\n\u001b[0m\u001b[1;32m      3\u001b[0m ], layout=layout)\n",
      "\u001b[0;31mAttributeError\u001b[0m: 'TimedeltaIndex' object has no attribute 'value'"
     ]
    }
   ],
   "source": [
    "FigureWidget(data=[\n",
    "    Scatter(x=average_daily_activity.index, y=average_daily_activity)\n",
    "], layout=layout)"
   ]
  },
  {
   "cell_type": "markdown",
   "metadata": {},
   "source": [
    "## Activity onset/offset time"
   ]
  },
  {
   "cell_type": "code",
   "execution_count": null,
   "metadata": {
    "ExecuteTime": {
     "end_time": "2018-12-06T15:10:23.968085Z",
     "start_time": "2018-12-06T15:10:16.435Z"
    },
    "scrolled": true
   },
   "outputs": [],
   "source": [
    "help(raw.AonT)"
   ]
  },
  {
   "cell_type": "code",
   "execution_count": null,
   "metadata": {
    "ExecuteTime": {
     "end_time": "2018-12-06T15:10:23.969818Z",
     "start_time": "2018-12-06T15:10:16.439Z"
    }
   },
   "outputs": [],
   "source": [
    "raw.AonT()"
   ]
  },
  {
   "cell_type": "code",
   "execution_count": null,
   "metadata": {
    "ExecuteTime": {
     "end_time": "2018-12-06T15:10:23.971750Z",
     "start_time": "2018-12-06T15:10:16.442Z"
    }
   },
   "outputs": [],
   "source": [
    "raw.AoffT(freq='15min')"
   ]
  },
  {
   "cell_type": "markdown",
   "metadata": {},
   "source": [
    "## Total daily average activity"
   ]
  },
  {
   "cell_type": "code",
   "execution_count": null,
   "metadata": {
    "ExecuteTime": {
     "end_time": "2018-12-06T15:10:23.973192Z",
     "start_time": "2018-12-06T15:10:16.445Z"
    }
   },
   "outputs": [],
   "source": [
    "raw.ADAT()"
   ]
  },
  {
   "cell_type": "code",
   "execution_count": null,
   "metadata": {
    "ExecuteTime": {
     "end_time": "2018-12-06T15:10:23.974512Z",
     "start_time": "2018-12-06T15:10:16.449Z"
    }
   },
   "outputs": [],
   "source": [
    "help(raw.ADATp)"
   ]
  },
  {
   "cell_type": "code",
   "execution_count": null,
   "metadata": {
    "ExecuteTime": {
     "end_time": "2018-12-06T15:10:23.975666Z",
     "start_time": "2018-12-06T15:10:16.451Z"
    }
   },
   "outputs": [],
   "source": [
    "raw.ADATp('5D')"
   ]
  },
  {
   "cell_type": "markdown",
   "metadata": {},
   "source": [
    "## Interdaily stability (IS)"
   ]
  },
  {
   "cell_type": "code",
   "execution_count": null,
   "metadata": {
    "ExecuteTime": {
     "end_time": "2018-12-06T15:10:23.976815Z",
     "start_time": "2018-12-06T15:10:16.460Z"
    }
   },
   "outputs": [],
   "source": [
    "# Default settings: resampling rate=1H, binarize data, threshold=4\n",
    "raw.IS()"
   ]
  },
  {
   "cell_type": "code",
   "execution_count": null,
   "metadata": {
    "ExecuteTime": {
     "end_time": "2018-12-06T15:10:23.978098Z",
     "start_time": "2018-12-06T15:10:16.465Z"
    }
   },
   "outputs": [],
   "source": [
    "# Custom settings: resampling rate='30min', binarize data, threshold=4\n",
    "raw.IS(freq='30min', binarize=True, threshold=4)"
   ]
  },
  {
   "cell_type": "code",
   "execution_count": null,
   "metadata": {
    "ExecuteTime": {
     "end_time": "2018-12-06T15:10:23.979349Z",
     "start_time": "2018-12-06T15:10:16.468Z"
    }
   },
   "outputs": [],
   "source": [
    "# Custom settings: resampling rate='5min', non-binarize data\n",
    "raw.IS(freq='1H', binarize=False)"
   ]
  },
  {
   "cell_type": "code",
   "execution_count": null,
   "metadata": {
    "ExecuteTime": {
     "end_time": "2018-12-06T15:10:23.980585Z",
     "start_time": "2018-12-06T15:10:16.473Z"
    }
   },
   "outputs": [],
   "source": [
    "raw.duration()"
   ]
  },
  {
   "cell_type": "code",
   "execution_count": null,
   "metadata": {
    "ExecuteTime": {
     "end_time": "2018-12-06T15:10:23.981868Z",
     "start_time": "2018-12-06T15:10:16.476Z"
    }
   },
   "outputs": [],
   "source": [
    "raw.ISp(period='5D',verbose=True)"
   ]
  },
  {
   "cell_type": "code",
   "execution_count": null,
   "metadata": {
    "ExecuteTime": {
     "end_time": "2018-12-06T15:10:23.983061Z",
     "start_time": "2018-12-06T15:10:16.480Z"
    }
   },
   "outputs": [],
   "source": [
    "help(raw.ISm)"
   ]
  },
  {
   "cell_type": "code",
   "execution_count": null,
   "metadata": {
    "ExecuteTime": {
     "end_time": "2018-12-06T15:10:23.984248Z",
     "start_time": "2018-12-06T15:10:16.485Z"
    }
   },
   "outputs": [],
   "source": [
    "raw.ISm()"
   ]
  },
  {
   "cell_type": "code",
   "execution_count": null,
   "metadata": {
    "ExecuteTime": {
     "end_time": "2018-12-06T15:10:23.985607Z",
     "start_time": "2018-12-06T15:10:16.488Z"
    }
   },
   "outputs": [],
   "source": [
    "raw.ISm(binarize=False)"
   ]
  },
  {
   "cell_type": "code",
   "execution_count": null,
   "metadata": {
    "ExecuteTime": {
     "end_time": "2018-12-06T15:10:23.987019Z",
     "start_time": "2018-12-06T15:10:16.492Z"
    }
   },
   "outputs": [],
   "source": [
    "raw.ISm(freqs=['10min','30min','1H'], binarize=False)"
   ]
  },
  {
   "cell_type": "markdown",
   "metadata": {},
   "source": [
    "\n",
    "\n",
    "\n"
   ]
  },
  {
   "cell_type": "markdown",
   "metadata": {},
   "source": [
    "## Intradaily variability (IV)"
   ]
  },
  {
   "cell_type": "code",
   "execution_count": null,
   "metadata": {
    "ExecuteTime": {
     "end_time": "2018-12-06T15:10:23.988346Z",
     "start_time": "2018-12-06T15:10:16.496Z"
    }
   },
   "outputs": [],
   "source": [
    "# Default settings: resampling rate=1H, raw data\n",
    "raw.IV()"
   ]
  },
  {
   "cell_type": "code",
   "execution_count": null,
   "metadata": {
    "ExecuteTime": {
     "end_time": "2018-12-06T15:10:23.990434Z",
     "start_time": "2018-12-06T15:10:16.498Z"
    }
   },
   "outputs": [],
   "source": [
    "# Custom settings: resampling rate='30min', binarize data, threshold=4\n",
    "raw.IV(freq='30min', binarize=True, threshold=4)"
   ]
  },
  {
   "cell_type": "code",
   "execution_count": null,
   "metadata": {
    "ExecuteTime": {
     "end_time": "2018-12-06T15:10:23.992311Z",
     "start_time": "2018-12-06T15:10:16.502Z"
    }
   },
   "outputs": [],
   "source": [
    "# Custom settings: resampling rate='5min', non-binarize data\n",
    "raw.IV(freq='1H', binarize=False)"
   ]
  },
  {
   "cell_type": "code",
   "execution_count": null,
   "metadata": {
    "ExecuteTime": {
     "end_time": "2018-12-06T15:10:23.994102Z",
     "start_time": "2018-12-06T15:10:16.506Z"
    }
   },
   "outputs": [],
   "source": [
    "raw.IVp(period='5D',verbose=True)"
   ]
  },
  {
   "cell_type": "code",
   "execution_count": null,
   "metadata": {
    "ExecuteTime": {
     "end_time": "2018-12-06T15:10:23.995310Z",
     "start_time": "2018-12-06T15:10:16.509Z"
    }
   },
   "outputs": [],
   "source": [
    "raw.IVm()"
   ]
  },
  {
   "cell_type": "code",
   "execution_count": null,
   "metadata": {
    "ExecuteTime": {
     "end_time": "2018-12-06T15:10:23.996486Z",
     "start_time": "2018-12-06T15:10:16.512Z"
    }
   },
   "outputs": [],
   "source": [
    "raw.IVm(binarize=False)"
   ]
  },
  {
   "cell_type": "code",
   "execution_count": null,
   "metadata": {
    "ExecuteTime": {
     "end_time": "2018-12-06T15:10:23.997622Z",
     "start_time": "2018-12-06T15:10:16.515Z"
    }
   },
   "outputs": [],
   "source": [
    "raw.IVm(freqs=['10min','30min','1H'], binarize=False)"
   ]
  },
  {
   "cell_type": "markdown",
   "metadata": {},
   "source": [
    "## Least and most active periods (L5 & M10)"
   ]
  },
  {
   "cell_type": "markdown",
   "metadata": {},
   "source": [
    "### L5, mean activity of the least active 5-hour period"
   ]
  },
  {
   "cell_type": "code",
   "execution_count": null,
   "metadata": {
    "ExecuteTime": {
     "end_time": "2018-12-06T15:10:23.998861Z",
     "start_time": "2018-12-06T15:10:16.521Z"
    }
   },
   "outputs": [],
   "source": [
    "raw.L5()"
   ]
  },
  {
   "cell_type": "code",
   "execution_count": null,
   "metadata": {
    "ExecuteTime": {
     "end_time": "2018-12-06T15:10:24.000135Z",
     "start_time": "2018-12-06T15:10:16.526Z"
    }
   },
   "outputs": [],
   "source": [
    "raw.L5(binarize=False)"
   ]
  },
  {
   "cell_type": "code",
   "execution_count": null,
   "metadata": {
    "ExecuteTime": {
     "end_time": "2018-12-06T15:10:24.001543Z",
     "start_time": "2018-12-06T15:10:16.530Z"
    }
   },
   "outputs": [],
   "source": [
    "raw.L5p(period='5D', verbose=True)"
   ]
  },
  {
   "cell_type": "markdown",
   "metadata": {},
   "source": [
    "### M10, the most active 10-hour period"
   ]
  },
  {
   "cell_type": "code",
   "execution_count": null,
   "metadata": {
    "ExecuteTime": {
     "end_time": "2018-12-06T15:10:24.003351Z",
     "start_time": "2018-12-06T15:10:16.535Z"
    }
   },
   "outputs": [],
   "source": [
    "raw.M10()"
   ]
  },
  {
   "cell_type": "code",
   "execution_count": null,
   "metadata": {
    "ExecuteTime": {
     "end_time": "2018-12-06T15:10:24.005746Z",
     "start_time": "2018-12-06T15:10:16.539Z"
    }
   },
   "outputs": [],
   "source": [
    "raw.M10p(period='5D', verbose=True)"
   ]
  },
  {
   "cell_type": "markdown",
   "metadata": {},
   "source": [
    "### Relative amplitude"
   ]
  },
  {
   "cell_type": "code",
   "execution_count": null,
   "metadata": {
    "ExecuteTime": {
     "end_time": "2018-12-06T15:10:24.008045Z",
     "start_time": "2018-12-06T15:10:16.543Z"
    }
   },
   "outputs": [],
   "source": [
    "raw.RAp(period='5D', verbose=True)"
   ]
  },
  {
   "cell_type": "markdown",
   "metadata": {},
   "source": [
    "## Fragmentation"
   ]
  },
  {
   "cell_type": "markdown",
   "metadata": {},
   "source": [
    "### Quantity the Rest-to-activity transition probability"
   ]
  },
  {
   "cell_type": "code",
   "execution_count": null,
   "metadata": {
    "ExecuteTime": {
     "end_time": "2018-12-06T15:10:24.009714Z",
     "start_time": "2018-12-06T15:10:16.546Z"
    }
   },
   "outputs": [],
   "source": [
    "help(raw.kRA)"
   ]
  },
  {
   "cell_type": "markdown",
   "metadata": {},
   "source": [
    "#### Rest to activity (kRA)"
   ]
  },
  {
   "cell_type": "code",
   "execution_count": null,
   "metadata": {
    "ExecuteTime": {
     "end_time": "2018-12-06T15:10:24.011034Z",
     "start_time": "2018-12-06T15:10:16.551Z"
    }
   },
   "outputs": [],
   "source": [
    "pRA, pRA_weights = raw.pRA(4, start='00:00:00', period='8H')"
   ]
  },
  {
   "cell_type": "code",
   "execution_count": null,
   "metadata": {
    "ExecuteTime": {
     "end_time": "2018-12-06T15:10:24.012472Z",
     "start_time": "2018-12-06T15:10:16.554Z"
    }
   },
   "outputs": [],
   "source": [
    "layout.update(title=\"Rest->Activity transition probability\",xaxis=dict(title=\"Time [min]\"), showlegend=False)"
   ]
  },
  {
   "cell_type": "code",
   "execution_count": null,
   "metadata": {
    "ExecuteTime": {
     "end_time": "2018-12-06T15:10:24.013782Z",
     "start_time": "2018-12-06T15:10:16.558Z"
    }
   },
   "outputs": [],
   "source": [
    "FigureWidget(data=[\n",
    "    Scatter(x=pRA.index, y=pRA, name='', mode='markers')\n",
    "], layout=layout)"
   ]
  },
  {
   "cell_type": "code",
   "execution_count": null,
   "metadata": {
    "ExecuteTime": {
     "end_time": "2018-12-06T15:10:24.015028Z",
     "start_time": "2018-12-06T15:10:16.561Z"
    }
   },
   "outputs": [],
   "source": [
    "raw.kRA(4)"
   ]
  },
  {
   "cell_type": "code",
   "execution_count": null,
   "metadata": {
    "ExecuteTime": {
     "end_time": "2018-12-06T15:10:24.016321Z",
     "start_time": "2018-12-06T15:10:16.564Z"
    }
   },
   "outputs": [],
   "source": [
    "raw.kRA(4, start='00:00:00', period='8H')"
   ]
  },
  {
   "cell_type": "markdown",
   "metadata": {},
   "source": [
    "#### Activity to rest (kAR)"
   ]
  },
  {
   "cell_type": "code",
   "execution_count": null,
   "metadata": {
    "ExecuteTime": {
     "end_time": "2018-12-06T15:10:24.017765Z",
     "start_time": "2018-12-06T15:10:16.567Z"
    }
   },
   "outputs": [],
   "source": [
    "raw.kAR(4)"
   ]
  },
  {
   "cell_type": "code",
   "execution_count": null,
   "metadata": {
    "ExecuteTime": {
     "end_time": "2018-12-06T15:10:24.019649Z",
     "start_time": "2018-12-06T15:10:16.570Z"
    }
   },
   "outputs": [],
   "source": [
    "raw.kAR(4, start='08:00:00', period='12H')"
   ]
  },
  {
   "cell_type": "markdown",
   "metadata": {},
   "source": [
    "## Sleep scoring algorithms"
   ]
  },
  {
   "cell_type": "markdown",
   "metadata": {},
   "source": [
    "### Cole-Kripke algorithm"
   ]
  },
  {
   "cell_type": "code",
   "execution_count": null,
   "metadata": {
    "ExecuteTime": {
     "end_time": "2018-12-06T15:10:24.021032Z",
     "start_time": "2018-12-06T15:10:16.575Z"
    }
   },
   "outputs": [],
   "source": [
    "help(raw.CK)"
   ]
  },
  {
   "cell_type": "code",
   "execution_count": null,
   "metadata": {
    "ExecuteTime": {
     "end_time": "2018-12-06T15:10:24.022828Z",
     "start_time": "2018-12-06T15:10:16.578Z"
    }
   },
   "outputs": [],
   "source": [
    "CK = raw.CK()"
   ]
  },
  {
   "cell_type": "code",
   "execution_count": null,
   "metadata": {
    "ExecuteTime": {
     "end_time": "2018-12-06T15:10:24.024185Z",
     "start_time": "2018-12-06T15:10:16.581Z"
    }
   },
   "outputs": [],
   "source": [
    "layout.update(title=\"Cole-Kripke Sleep scoring\",xaxis=dict(title=\"Date time\"), showlegend=False)"
   ]
  },
  {
   "cell_type": "code",
   "execution_count": null,
   "metadata": {
    "ExecuteTime": {
     "end_time": "2018-12-06T15:10:24.025753Z",
     "start_time": "2018-12-06T15:10:16.583Z"
    }
   },
   "outputs": [],
   "source": [
    "FigureWidget(data=[Scatter(x=CK.index, y=CK)], layout=layout)"
   ]
  },
  {
   "cell_type": "markdown",
   "metadata": {},
   "source": [
    "### Sadeh algorithm"
   ]
  },
  {
   "cell_type": "code",
   "execution_count": null,
   "metadata": {
    "ExecuteTime": {
     "end_time": "2018-12-06T15:10:24.027145Z",
     "start_time": "2018-12-06T15:10:16.588Z"
    }
   },
   "outputs": [],
   "source": [
    "sadeh = raw.Sadeh()"
   ]
  },
  {
   "cell_type": "code",
   "execution_count": null,
   "metadata": {
    "ExecuteTime": {
     "end_time": "2018-12-06T15:10:24.028679Z",
     "start_time": "2018-12-06T15:10:16.591Z"
    }
   },
   "outputs": [],
   "source": [
    "layout.update(title=\"Sadeh Sleep scoring\",xaxis=dict(title=\"Date time\"), showlegend=False)"
   ]
  },
  {
   "cell_type": "code",
   "execution_count": null,
   "metadata": {
    "ExecuteTime": {
     "end_time": "2018-12-06T15:10:24.030009Z",
     "start_time": "2018-12-06T15:10:16.595Z"
    }
   },
   "outputs": [],
   "source": [
    "FigureWidget(data=[Scatter(x=sadeh.index, y=sadeh)], layout=layout)"
   ]
  },
  {
   "cell_type": "markdown",
   "metadata": {},
   "source": [
    "### SCRIPPS algorithm"
   ]
  },
  {
   "cell_type": "code",
   "execution_count": null,
   "metadata": {
    "ExecuteTime": {
     "end_time": "2018-12-06T15:10:24.031301Z",
     "start_time": "2018-12-06T15:10:16.598Z"
    }
   },
   "outputs": [],
   "source": [
    "help(raw.Scripps)"
   ]
  },
  {
   "cell_type": "code",
   "execution_count": null,
   "metadata": {
    "ExecuteTime": {
     "end_time": "2018-12-06T15:10:24.032441Z",
     "start_time": "2018-12-06T15:10:16.601Z"
    }
   },
   "outputs": [],
   "source": [
    "Scripps = raw.Scripps()"
   ]
  },
  {
   "cell_type": "code",
   "execution_count": null,
   "metadata": {
    "ExecuteTime": {
     "end_time": "2018-12-06T15:10:24.033535Z",
     "start_time": "2018-12-06T15:10:16.604Z"
    }
   },
   "outputs": [],
   "source": [
    "layout.update(title=\"Scripps Sleep scoring\",xaxis=dict(title=\"Date time\"), showlegend=False)"
   ]
  },
  {
   "cell_type": "code",
   "execution_count": null,
   "metadata": {
    "ExecuteTime": {
     "end_time": "2018-12-06T15:10:24.034678Z",
     "start_time": "2018-12-06T15:10:16.608Z"
    }
   },
   "outputs": [],
   "source": [
    "FigureWidget(data=[Scatter(x=Scripps.index, y=Scripps)], layout=layout)"
   ]
  },
  {
   "cell_type": "markdown",
   "metadata": {},
   "source": [
    "### Sleep over Daytime"
   ]
  },
  {
   "cell_type": "code",
   "execution_count": null,
   "metadata": {
    "ExecuteTime": {
     "end_time": "2018-12-06T15:10:24.036173Z",
     "start_time": "2018-12-06T15:10:16.612Z"
    }
   },
   "outputs": [],
   "source": [
    "help(raw.SoD)"
   ]
  },
  {
   "cell_type": "code",
   "execution_count": null,
   "metadata": {
    "ExecuteTime": {
     "end_time": "2018-12-06T15:10:24.037534Z",
     "start_time": "2018-12-06T15:10:16.615Z"
    }
   },
   "outputs": [],
   "source": [
    "SoD = raw.SoD(algo='unanimous')"
   ]
  },
  {
   "cell_type": "code",
   "execution_count": null,
   "metadata": {
    "ExecuteTime": {
     "end_time": "2018-12-06T15:10:24.039026Z",
     "start_time": "2018-12-06T15:10:16.618Z"
    }
   },
   "outputs": [],
   "source": [
    "layout.update(title=\"Sleep over Daytime\",xaxis=dict(title=\"Date time\"), showlegend=False)\n",
    "FigureWidget(data=[Scatter(x=SoD.index, y=SoD)], layout=layout)"
   ]
  }
 ],
 "metadata": {
  "celltoolbar": "Raw Cell Format",
  "kernelspec": {
   "display_name": "Python3 (pyActi)",
   "language": "python",
   "name": "pyactigraphy_py3"
  },
  "language_info": {
   "codemirror_mode": {
    "name": "ipython",
    "version": 3
   },
   "file_extension": ".py",
   "mimetype": "text/x-python",
   "name": "python",
   "nbconvert_exporter": "python",
   "pygments_lexer": "ipython3",
   "version": "3.7.0"
  },
  "latex_envs": {
   "LaTeX_envs_menu_present": true,
   "autoclose": false,
   "autocomplete": true,
   "bibliofile": "biblio.bib",
   "cite_by": "apalike",
   "current_citInitial": 1,
   "eqLabelWithNumbers": true,
   "eqNumInitial": 1,
   "hotkeys": {
    "equation": "Ctrl-E",
    "itemize": "Ctrl-I"
   },
   "labels_anchors": false,
   "latex_user_defs": false,
   "report_style_numbering": false,
   "user_envs_cfg": false
  },
  "toc": {
   "base_numbering": 1,
   "nav_menu": {},
   "number_sections": true,
   "sideBar": true,
   "skip_h1_title": true,
   "title_cell": "Table of Contents",
   "title_sidebar": "Contents",
   "toc_cell": true,
   "toc_position": {},
   "toc_section_display": true,
   "toc_window_display": false
  }
 },
 "nbformat": 4,
 "nbformat_minor": 2
}
